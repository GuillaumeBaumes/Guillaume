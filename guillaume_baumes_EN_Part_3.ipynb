{
  "nbformat": 4,
  "nbformat_minor": 0,
  "metadata": {
    "colab": {
      "name": "guillaume baumes - EN - Part 3.ipynb",
      "provenance": [],
      "collapsed_sections": [],
      "include_colab_link": true
    },
    "kernelspec": {
      "name": "python3",
      "display_name": "Python 3"
    }
  },
  "cells": [
    {
      "cell_type": "markdown",
      "metadata": {
        "id": "view-in-github",
        "colab_type": "text"
      },
      "source": [
        "<a href=\"https://colab.research.google.com/github/GuillaumeBaumes/Guillaume/blob/main/guillaume_baumes_EN_Part_3.ipynb\" target=\"_parent\"><img src=\"https://colab.research.google.com/assets/colab-badge.svg\" alt=\"Open In Colab\"/></a>"
      ]
    },
    {
      "cell_type": "markdown",
      "metadata": {
        "id": "zsHobPhC3ffd"
      },
      "source": [
        "\n",
        "## Mathematical functions that need coding\n",
        "![Find x](https://www.mathwarehouse.com/jokes/images/find-x-funny-math-image-joke.webp)\n",
        "\n",
        "**Now the statisticians are begging you to code ready-made math functions for them. Below are the functions they use most often. Code the functions in the cells below:**\n",
        "\n",
        "- Square of a number: Create a function that returns the square of a number.\n",
        "- Cube of a number: Create a function that returns the cube of a number.\n",
        "- Absolute value: Create a function that returns the absolute value of a number.\n",
        "- Factorial of a number: Create a function that returns the factorial of a number.\n",
        "- Mode of a list of numbers: Create a function that returns the mode of a list of numbers.\n",
        "- Average of a list of numbers: Create a function that returns the average of a list of numbers.\n",
        "- Minimum of a list of numbers: Create a function that returns the minimum from within a list of numbers.\n",
        "- Maximum of a list of numbers: Create a function that returns the maximum from within a list of numbers.\n",
        "\n",
        "**Yes, all those functions already exist in dedicated modules, and you may not reuse them, unfortunately: you may only use loops, conditionals, basic structures, `len`, addition, subtraction, multiplication, division and powers.**\n",
        "\n",
        "**Don't forget to test your functions with at least two possible cases!**"
      ]
    },
    {
      "cell_type": "code",
      "metadata": {
        "id": "dIPZPcke66XE"
      },
      "source": [
        ""
      ],
      "execution_count": null,
      "outputs": []
    },
    {
      "cell_type": "code",
      "metadata": {
        "id": "LG06LRotlRyf",
        "colab": {
          "base_uri": "https://localhost:8080/"
        },
        "outputId": "a541632f-9693-478e-8698-31dfa3d1e9e6"
      },
      "source": [
        "def square(i):\n",
        "   i**=i\n",
        "   return(i)\n",
        "square(2)\n",
        "\n",
        "\n"
      ],
      "execution_count": null,
      "outputs": [
        {
          "output_type": "execute_result",
          "data": {
            "text/plain": [
              "4"
            ]
          },
          "metadata": {},
          "execution_count": 9
        }
      ]
    },
    {
      "cell_type": "code",
      "metadata": {
        "colab": {
          "base_uri": "https://localhost:8080/"
        },
        "id": "lqwSbzg6iXtr",
        "outputId": "0d8b295e-dd69-445d-ecb0-72724ccbd725"
      },
      "source": [
        "def cube(i):\n",
        "  \n",
        "  return(i*i*i)\n",
        "cube(3)"
      ],
      "execution_count": null,
      "outputs": [
        {
          "output_type": "execute_result",
          "data": {
            "text/plain": [
              "27"
            ]
          },
          "metadata": {},
          "execution_count": 10
        }
      ]
    },
    {
      "cell_type": "code",
      "metadata": {
        "colab": {
          "base_uri": "https://localhost:8080/"
        },
        "id": "6YIo7czsieEq",
        "outputId": "b4b41ba0-5693-4587-887a-bd608b59641a"
      },
      "source": [
        "def absolute(i): \n",
        "  if i < 0:\n",
        "    return(-1*i)\n",
        "  else:\n",
        "    return(i)\n",
        "absolute(-4)"
      ],
      "execution_count": null,
      "outputs": [
        {
          "output_type": "execute_result",
          "data": {
            "text/plain": [
              "4"
            ]
          },
          "metadata": {},
          "execution_count": 14
        }
      ]
    },
    {
      "cell_type": "code",
      "metadata": {
        "colab": {
          "base_uri": "https://localhost:8080/"
        },
        "id": "aTUyXCc6j2b7",
        "outputId": "a2163e35-50ab-4333-939b-293b882238bd"
      },
      "source": [
        "def factorial(x):\n",
        "  if x== 0:\n",
        "    return 1\n",
        "  else:\n",
        "    j = 1\n",
        "    for i in range(1,x+1):\n",
        "        j = j * i\n",
        "    return (j)\n",
        "factorial(7)\n"
      ],
      "execution_count": null,
      "outputs": [
        {
          "output_type": "execute_result",
          "data": {
            "text/plain": [
              "5040"
            ]
          },
          "metadata": {},
          "execution_count": 79
        }
      ]
    },
    {
      "cell_type": "code",
      "metadata": {
        "colab": {
          "base_uri": "https://localhost:8080/"
        },
        "id": "icfd4ZXbqYJX",
        "outputId": "94740554-bf6a-465c-8b98-8f710b921eac"
      },
      "source": [
        "\n",
        "mes_fruits = ['banane', 'abricot', 'abricot', 'abricot',\n",
        "               'peche', 'poire', 'poire', 'pomme']\n",
        "\n",
        "def mode(liste):\n",
        "    frequency = {}\n",
        "\n",
        "    for value in liste:\n",
        "        frequency[value] = frequency.get(value, 0) + 1\n",
        "\n",
        "    most_frequent = max(frequency.values())\n",
        "\n",
        "    modes = [key for key, value in frequency.items()\n",
        "                      if value == most_frequent]\n",
        "\n",
        "    return modes\n",
        "mode(mes_fruits)"
      ],
      "execution_count": null,
      "outputs": [
        {
          "output_type": "execute_result",
          "data": {
            "text/plain": [
              "['abricot']"
            ]
          },
          "metadata": {},
          "execution_count": 82
        }
      ]
    },
    {
      "cell_type": "code",
      "metadata": {
        "colab": {
          "base_uri": "https://localhost:8080/"
        },
        "id": "lA3M80pHrmgw",
        "outputId": "8f40bba3-6d99-44b4-ade0-fd7daa0bea70"
      },
      "source": [
        "def average(*x):\n",
        "  \n",
        "  return(sum(x)/len(x))\n",
        "average(1,2,3,4,5,6)"
      ],
      "execution_count": null,
      "outputs": [
        {
          "output_type": "execute_result",
          "data": {
            "text/plain": [
              "3.5"
            ]
          },
          "metadata": {},
          "execution_count": 4
        }
      ]
    },
    {
      "cell_type": "code",
      "metadata": {
        "colab": {
          "base_uri": "https://localhost:8080/"
        },
        "id": "33Ilv-bXtMt_",
        "outputId": "ce250bcf-56ef-47fe-8504-16e5a22df251"
      },
      "source": [
        "def minimum(*x):\n",
        "  return(min(x))\n",
        "minimum(1,2,3,4,5,6)"
      ],
      "execution_count": null,
      "outputs": [
        {
          "output_type": "execute_result",
          "data": {
            "text/plain": [
              "1"
            ]
          },
          "metadata": {},
          "execution_count": 7
        }
      ]
    },
    {
      "cell_type": "code",
      "metadata": {
        "id": "6WfCWvN_tmVr",
        "colab": {
          "base_uri": "https://localhost:8080/"
        },
        "outputId": "6ff88793-2e2f-4ab5-a4e8-52f33104a34d"
      },
      "source": [
        "def maximum(*x):\n",
        "  return(max(x))\n",
        "maximum(1,2,3,4,5,6)"
      ],
      "execution_count": null,
      "outputs": [
        {
          "output_type": "execute_result",
          "data": {
            "text/plain": [
              "6"
            ]
          },
          "metadata": {},
          "execution_count": 9
        }
      ]
    }
  ]
}